{
  "cells": [
    {
      "cell_type": "markdown",
      "metadata": {
        "collapsed": true,
        "pycharm": {
          "is_executing": false,
          "name": "#%% md\n"
        }
      },
      "source": "$\n\\begin{align}\nf(X) \u0026\u003d \\beta_0 + \\sum_{j\u003d1}^pX_j\\beta_j \\\\\n\u0026\u003d \\mathbf{X}\\beta\n\\end{align}\n$\n\n$\n\\begin{align}\nRSS(\\beta) \u0026\u003d \\sum_{i\u003d1}^N(y_i-f(x_i))^2 \\\\\n           \u0026\u003d \\sum_{i\u003d1}^N(y_i-\\beta_0-\\sum_{j\u003d1}^px_{ij}\\beta_j)^2 \\\\\n           \u0026\u003d (\\mathbf{y}-\\mathbf{X}\\beta)^T(\\mathbf{y}-\\mathbf{X}\\beta) \n\\end{align}     \n$\n\n$\\mathbf{X}$ is the $N \\times (p+1)$ matrix \n\n$\n\\frac{\\partial RSS}{\\partial \\beta}\n\u003d -2\\mathbf{X}^T(y-\\mathbf{X}\\beta)\n$\n\n$\n\\frac{\\partial^2 RSS}{\\partial \\beta \\partial \\beta^T}\n\u003d 2\\mathbf{X}^T \\mathbf{X}\n$\n\n$\n\\hat{\\beta} \u003d (\\mathbf{X}^T\\mathbf{X})^{-1}\\mathbf{X}^T\\mathbf{y}\n$\n\n$\n\\begin{align}\n\\hat{\\mathbf{y}}\u0026\u003d \\mathbf{X}\\hat{\\beta} \\\\\n\u0026\u003d\\mathbf{X}(\\mathbf{X}^T\\mathbf{X})^{-1}\\mathbf{X}^T\\mathbf{y}\\\\\n\u0026\u003d\\mathbf{H}\\mathbf{y}\n\\end{align}    \n$\n \n"
    },
    {
      "cell_type": "code",
      "execution_count": null,
      "metadata": {
        "pycharm": {
          "metadata": false,
          "name": "#%%\n"
        }
      },
      "outputs": [],
      "source": []
    },
    {
      "cell_type": "markdown",
      "metadata": {
        "pycharm": {
          "metadata": false
        }
      },
      "source": [
        "\n",
        "\n"
      ]
    }
  ],
  "metadata": {
    "kernelspec": {
      "display_name": "Python 3",
      "language": "python",
      "name": "python3"
    },
    "language_info": {
      "codemirror_mode": {
        "name": "ipython",
        "version": 3
      },
      "file_extension": ".py",
      "mimetype": "text/x-python",
      "name": "python",
      "nbconvert_exporter": "python",
      "pygments_lexer": "ipython3",
      "version": "3.6.6"
    }
  },
  "nbformat": 4,
  "nbformat_minor": 1
}