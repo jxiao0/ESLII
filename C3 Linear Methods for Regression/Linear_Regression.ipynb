{
  "cells": [
    {
      "cell_type": "markdown",
      "metadata": {
        "collapsed": true,
        "pycharm": {
          "is_executing": false,
          "name": "#%% md\n"
        }
      },
      "source": "$\n\\begin{align}\nf(X) \u0026\u003d \\beta_0 + \\sum_{j\u003d1}^pX_j\\beta_j \\\\\n\u0026\u003d \\mathbf{X}\\beta\n\\end{align}\n$\n\n$\n\\begin{align}\nRSS(\\beta) \u0026\u003d \\sum_{i\u003d1}^N(y_i-f(x_i))^2 \\\\\n           \u0026\u003d \\sum_{i\u003d1}^N(y_i-\\beta_0-\\sum_{j\u003d1}^px_{ij}\\beta_j)^2 \\\\\n           \u0026\u003d (\\mathbf{y}-\\mathbf{X}\\beta)^T(\\mathbf{y}-\\mathbf{X}\\beta) \n\\end{align}     \n$\n\n$\\mathbf{X}$ is the $N \\times (p+1)$ matrix \n\n$\n\\frac{\\partial RSS}{\\partial \\beta}\n\u003d -2\\mathbf{X}^T(y-\\mathbf{X}\\beta)\n$\n\n$\n\\frac{\\partial^2 RSS}{\\partial \\beta \\partial \\beta^T}\n\u003d 2\\mathbf{X}^T \\mathbf{X}\n$\n\n$\n\\hat{\\beta} \u003d (\\mathbf{X}^T\\mathbf{X})^{-1}\\mathbf{X}^T\\mathbf{y}\n$\n\n$\n\\begin{align}\n\\hat{\\mathbf{y}}\u0026\u003d \\mathbf{X}\\hat{\\beta} \\\\\n\u0026\u003d\\mathbf{X}(\\mathbf{X}^T\\mathbf{X})^{-1}\\mathbf{X}^T\\mathbf{y}\\\\\n\u0026\u003d\\mathbf{H}\\mathbf{y}\n\\end{align}    \n$\n\n\n"
    },
    {
      "cell_type": "code",
      "execution_count": 5,
      "metadata": {
        "pycharm": {
          "metadata": false,
          "name": "#%%\n",
          "is_executing": false
        }
      },
      "outputs": [
        {
          "data": {
            "text/plain": "      lcavol   lweight  age      lbph  svi       lcp  gleason  pgg45  \\\n1  -0.579818  2.769459   50 -1.386294    0 -1.386294        6      0   \n2  -0.994252  3.319626   58 -1.386294    0 -1.386294        6      0   \n3  -0.510826  2.691243   74 -1.386294    0 -1.386294        7     20   \n4  -1.203973  3.282789   58 -1.386294    0 -1.386294        6      0   \n5   0.751416  3.432373   62 -1.386294    0 -1.386294        6      0   \n..       ...       ...  ...       ...  ...       ...      ...    ...   \n93  2.830268  3.876396   68 -1.386294    1  1.321756        7     60   \n94  3.821004  3.896909   44 -1.386294    1  2.169054        7     40   \n95  2.907447  3.396185   52 -1.386294    1  2.463853        7     10   \n96  2.882564  3.773910   68  1.558145    1  1.558145        7     80   \n97  3.471966  3.974998   68  0.438255    1  2.904165        7     20   \n\n        lpsa train  \n1  -0.430783     T  \n2  -0.162519     T  \n3  -0.162519     T  \n4  -0.162519     T  \n5   0.371564     T  \n..       ...   ...  \n93  4.385147     T  \n94  4.684443     T  \n95  5.143124     F  \n96  5.477509     T  \n97  5.582932     F  \n\n[97 rows x 10 columns]",
            "text/html": "\u003cdiv\u003e\n\u003cstyle scoped\u003e\n    .dataframe tbody tr th:only-of-type {\n        vertical-align: middle;\n    }\n\n    .dataframe tbody tr th {\n        vertical-align: top;\n    }\n\n    .dataframe thead th {\n        text-align: right;\n    }\n\u003c/style\u003e\n\u003ctable border\u003d\"1\" class\u003d\"dataframe\"\u003e\n  \u003cthead\u003e\n    \u003ctr style\u003d\"text-align: right;\"\u003e\n      \u003cth\u003e\u003c/th\u003e\n      \u003cth\u003elcavol\u003c/th\u003e\n      \u003cth\u003elweight\u003c/th\u003e\n      \u003cth\u003eage\u003c/th\u003e\n      \u003cth\u003elbph\u003c/th\u003e\n      \u003cth\u003esvi\u003c/th\u003e\n      \u003cth\u003elcp\u003c/th\u003e\n      \u003cth\u003egleason\u003c/th\u003e\n      \u003cth\u003epgg45\u003c/th\u003e\n      \u003cth\u003elpsa\u003c/th\u003e\n      \u003cth\u003etrain\u003c/th\u003e\n    \u003c/tr\u003e\n  \u003c/thead\u003e\n  \u003ctbody\u003e\n    \u003ctr\u003e\n      \u003cth\u003e1\u003c/th\u003e\n      \u003ctd\u003e-0.579818\u003c/td\u003e\n      \u003ctd\u003e2.769459\u003c/td\u003e\n      \u003ctd\u003e50\u003c/td\u003e\n      \u003ctd\u003e-1.386294\u003c/td\u003e\n      \u003ctd\u003e0\u003c/td\u003e\n      \u003ctd\u003e-1.386294\u003c/td\u003e\n      \u003ctd\u003e6\u003c/td\u003e\n      \u003ctd\u003e0\u003c/td\u003e\n      \u003ctd\u003e-0.430783\u003c/td\u003e\n      \u003ctd\u003eT\u003c/td\u003e\n    \u003c/tr\u003e\n    \u003ctr\u003e\n      \u003cth\u003e2\u003c/th\u003e\n      \u003ctd\u003e-0.994252\u003c/td\u003e\n      \u003ctd\u003e3.319626\u003c/td\u003e\n      \u003ctd\u003e58\u003c/td\u003e\n      \u003ctd\u003e-1.386294\u003c/td\u003e\n      \u003ctd\u003e0\u003c/td\u003e\n      \u003ctd\u003e-1.386294\u003c/td\u003e\n      \u003ctd\u003e6\u003c/td\u003e\n      \u003ctd\u003e0\u003c/td\u003e\n      \u003ctd\u003e-0.162519\u003c/td\u003e\n      \u003ctd\u003eT\u003c/td\u003e\n    \u003c/tr\u003e\n    \u003ctr\u003e\n      \u003cth\u003e3\u003c/th\u003e\n      \u003ctd\u003e-0.510826\u003c/td\u003e\n      \u003ctd\u003e2.691243\u003c/td\u003e\n      \u003ctd\u003e74\u003c/td\u003e\n      \u003ctd\u003e-1.386294\u003c/td\u003e\n      \u003ctd\u003e0\u003c/td\u003e\n      \u003ctd\u003e-1.386294\u003c/td\u003e\n      \u003ctd\u003e7\u003c/td\u003e\n      \u003ctd\u003e20\u003c/td\u003e\n      \u003ctd\u003e-0.162519\u003c/td\u003e\n      \u003ctd\u003eT\u003c/td\u003e\n    \u003c/tr\u003e\n    \u003ctr\u003e\n      \u003cth\u003e4\u003c/th\u003e\n      \u003ctd\u003e-1.203973\u003c/td\u003e\n      \u003ctd\u003e3.282789\u003c/td\u003e\n      \u003ctd\u003e58\u003c/td\u003e\n      \u003ctd\u003e-1.386294\u003c/td\u003e\n      \u003ctd\u003e0\u003c/td\u003e\n      \u003ctd\u003e-1.386294\u003c/td\u003e\n      \u003ctd\u003e6\u003c/td\u003e\n      \u003ctd\u003e0\u003c/td\u003e\n      \u003ctd\u003e-0.162519\u003c/td\u003e\n      \u003ctd\u003eT\u003c/td\u003e\n    \u003c/tr\u003e\n    \u003ctr\u003e\n      \u003cth\u003e5\u003c/th\u003e\n      \u003ctd\u003e0.751416\u003c/td\u003e\n      \u003ctd\u003e3.432373\u003c/td\u003e\n      \u003ctd\u003e62\u003c/td\u003e\n      \u003ctd\u003e-1.386294\u003c/td\u003e\n      \u003ctd\u003e0\u003c/td\u003e\n      \u003ctd\u003e-1.386294\u003c/td\u003e\n      \u003ctd\u003e6\u003c/td\u003e\n      \u003ctd\u003e0\u003c/td\u003e\n      \u003ctd\u003e0.371564\u003c/td\u003e\n      \u003ctd\u003eT\u003c/td\u003e\n    \u003c/tr\u003e\n    \u003ctr\u003e\n      \u003cth\u003e...\u003c/th\u003e\n      \u003ctd\u003e...\u003c/td\u003e\n      \u003ctd\u003e...\u003c/td\u003e\n      \u003ctd\u003e...\u003c/td\u003e\n      \u003ctd\u003e...\u003c/td\u003e\n      \u003ctd\u003e...\u003c/td\u003e\n      \u003ctd\u003e...\u003c/td\u003e\n      \u003ctd\u003e...\u003c/td\u003e\n      \u003ctd\u003e...\u003c/td\u003e\n      \u003ctd\u003e...\u003c/td\u003e\n      \u003ctd\u003e...\u003c/td\u003e\n    \u003c/tr\u003e\n    \u003ctr\u003e\n      \u003cth\u003e93\u003c/th\u003e\n      \u003ctd\u003e2.830268\u003c/td\u003e\n      \u003ctd\u003e3.876396\u003c/td\u003e\n      \u003ctd\u003e68\u003c/td\u003e\n      \u003ctd\u003e-1.386294\u003c/td\u003e\n      \u003ctd\u003e1\u003c/td\u003e\n      \u003ctd\u003e1.321756\u003c/td\u003e\n      \u003ctd\u003e7\u003c/td\u003e\n      \u003ctd\u003e60\u003c/td\u003e\n      \u003ctd\u003e4.385147\u003c/td\u003e\n      \u003ctd\u003eT\u003c/td\u003e\n    \u003c/tr\u003e\n    \u003ctr\u003e\n      \u003cth\u003e94\u003c/th\u003e\n      \u003ctd\u003e3.821004\u003c/td\u003e\n      \u003ctd\u003e3.896909\u003c/td\u003e\n      \u003ctd\u003e44\u003c/td\u003e\n      \u003ctd\u003e-1.386294\u003c/td\u003e\n      \u003ctd\u003e1\u003c/td\u003e\n      \u003ctd\u003e2.169054\u003c/td\u003e\n      \u003ctd\u003e7\u003c/td\u003e\n      \u003ctd\u003e40\u003c/td\u003e\n      \u003ctd\u003e4.684443\u003c/td\u003e\n      \u003ctd\u003eT\u003c/td\u003e\n    \u003c/tr\u003e\n    \u003ctr\u003e\n      \u003cth\u003e95\u003c/th\u003e\n      \u003ctd\u003e2.907447\u003c/td\u003e\n      \u003ctd\u003e3.396185\u003c/td\u003e\n      \u003ctd\u003e52\u003c/td\u003e\n      \u003ctd\u003e-1.386294\u003c/td\u003e\n      \u003ctd\u003e1\u003c/td\u003e\n      \u003ctd\u003e2.463853\u003c/td\u003e\n      \u003ctd\u003e7\u003c/td\u003e\n      \u003ctd\u003e10\u003c/td\u003e\n      \u003ctd\u003e5.143124\u003c/td\u003e\n      \u003ctd\u003eF\u003c/td\u003e\n    \u003c/tr\u003e\n    \u003ctr\u003e\n      \u003cth\u003e96\u003c/th\u003e\n      \u003ctd\u003e2.882564\u003c/td\u003e\n      \u003ctd\u003e3.773910\u003c/td\u003e\n      \u003ctd\u003e68\u003c/td\u003e\n      \u003ctd\u003e1.558145\u003c/td\u003e\n      \u003ctd\u003e1\u003c/td\u003e\n      \u003ctd\u003e1.558145\u003c/td\u003e\n      \u003ctd\u003e7\u003c/td\u003e\n      \u003ctd\u003e80\u003c/td\u003e\n      \u003ctd\u003e5.477509\u003c/td\u003e\n      \u003ctd\u003eT\u003c/td\u003e\n    \u003c/tr\u003e\n    \u003ctr\u003e\n      \u003cth\u003e97\u003c/th\u003e\n      \u003ctd\u003e3.471966\u003c/td\u003e\n      \u003ctd\u003e3.974998\u003c/td\u003e\n      \u003ctd\u003e68\u003c/td\u003e\n      \u003ctd\u003e0.438255\u003c/td\u003e\n      \u003ctd\u003e1\u003c/td\u003e\n      \u003ctd\u003e2.904165\u003c/td\u003e\n      \u003ctd\u003e7\u003c/td\u003e\n      \u003ctd\u003e20\u003c/td\u003e\n      \u003ctd\u003e5.582932\u003c/td\u003e\n      \u003ctd\u003eF\u003c/td\u003e\n    \u003c/tr\u003e\n  \u003c/tbody\u003e\n\u003c/table\u003e\n\u003cp\u003e97 rows × 10 columns\u003c/p\u003e\n\u003c/div\u003e"
          },
          "metadata": {},
          "output_type": "execute_result",
          "execution_count": 5
        }
      ],
      "source": "import pandas as pd\npd.read_csv(\u0027prostate.data.txt\u0027, delimiter\u003d\u0027\\t\u0027, index_col\u003d0)"
    },
    {
      "cell_type": "markdown",
      "metadata": {
        "pycharm": {
          "metadata": false
        }
      },
      "source": [
        "\n",
        "\n"
      ]
    }
  ],
  "metadata": {
    "kernelspec": {
      "display_name": "Python 3",
      "language": "python",
      "name": "python3"
    },
    "language_info": {
      "codemirror_mode": {
        "name": "ipython",
        "version": 3
      },
      "file_extension": ".py",
      "mimetype": "text/x-python",
      "name": "python",
      "nbconvert_exporter": "python",
      "pygments_lexer": "ipython3",
      "version": "3.6.6"
    }
  },
  "nbformat": 4,
  "nbformat_minor": 1
}